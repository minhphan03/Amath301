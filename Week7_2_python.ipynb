{
  "nbformat": 4,
  "nbformat_minor": 0,
  "metadata": {
    "kernelspec": {
      "display_name": "Python 3",
      "language": "python",
      "name": "python3"
    },
    "language_info": {
      "codemirror_mode": {
        "name": "ipython",
        "version": 3
      },
      "file_extension": ".py",
      "mimetype": "text/x-python",
      "name": "python",
      "nbconvert_exporter": "python",
      "pygments_lexer": "ipython3",
      "version": "3.8.5"
    },
    "colab": {
      "name": "Week7_2_python.ipynb",
      "provenance": [],
      "collapsed_sections": [],
      "include_colab_link": true
    }
  },
  "cells": [
    {
      "cell_type": "markdown",
      "metadata": {
        "id": "view-in-github",
        "colab_type": "text"
      },
      "source": [
        "<a href=\"https://colab.research.google.com/github/minhphan03/Amath301/blob/main/Week7_2_python.ipynb\" target=\"_parent\"><img src=\"https://colab.research.google.com/assets/colab-badge.svg\" alt=\"Open In Colab\"/></a>"
      ]
    },
    {
      "cell_type": "markdown",
      "metadata": {
        "id": "RtIEXeHt9WZ0"
      },
      "source": [
        "# Week 7 Lecture 2: Numerical Integration"
      ]
    },
    {
      "cell_type": "markdown",
      "metadata": {
        "id": "egmQwK749moy"
      },
      "source": [
        "## Some functions for illustration purposes:"
      ]
    },
    {
      "cell_type": "code",
      "metadata": {
        "id": "zIBtk4VC9Pb2"
      },
      "source": [
        "import numpy as np\n",
        "import matplotlib.pyplot as plt\n",
        "\n",
        "# You can ignore these functions. \n",
        "# They are just for visualizing integration schemes.\n",
        "def plot_lhr(f, a, b, dx):\n",
        "    x = np.arange(a, b + dx, dx)\n",
        "    y = f(x)\n",
        "    n = x.size\n",
        "    \n",
        "    xplot = np.arange(a, b + dx/100, dx/100)\n",
        "    yplot = f(xplot)\n",
        "    plt.plot(xplot, yplot, 'k')\n",
        "    \n",
        "    for k in range(n-1):\n",
        "        x_rect = [x[k], x[k], x[k + 1], x[k + 1], x[k]]\n",
        "        y_rect = [0, y[k], y[k], 0, 0]\n",
        "        plt.plot(x_rect, y_rect, 'b')\n",
        "        \n",
        "def plot_rhr(f, a, b, dx):\n",
        "    x = np.arange(a, b + dx, dx)\n",
        "    y = f(x)\n",
        "    n = x.size\n",
        "    \n",
        "    xplot = np.arange(a, b + dx/100, dx/100)\n",
        "    yplot = f(xplot)\n",
        "    plt.plot(xplot, yplot, 'k')\n",
        "    \n",
        "    for k in range(n-1):\n",
        "        x_rect = [x[k], x[k], x[k + 1], x[k + 1], x[k]]\n",
        "        y_rect = [0, y[k + 1], y[k + 1], 0, 0]\n",
        "        plt.plot(x_rect, y_rect, 'b')\n",
        "        \n",
        "def plot_trap(f, a, b, dx):\n",
        "    x = np.arange(a, b + dx, dx)\n",
        "    y = f(x)\n",
        "    n = x.size\n",
        "    \n",
        "    xplot = np.arange(a, b + dx/100, dx/100)\n",
        "    yplot = f(xplot)\n",
        "    plt.plot(xplot, yplot, 'k')\n",
        "    \n",
        "    for k in range(n-1):\n",
        "        x_rect = [x[k], x[k], x[k + 1], x[k + 1], x[k]]\n",
        "        y_rect = [0, y[k], y[k + 1], 0, 0]\n",
        "        plt.plot(x_rect, y_rect, 'b')"
      ],
      "execution_count": null,
      "outputs": []
    },
    {
      "cell_type": "markdown",
      "metadata": {
        "id": "gqF65VdM9PcG"
      },
      "source": [
        "# Numerical Integration\n",
        "In this lecture, we will discuss several methods for numerical integration.  The general setup will be exactly the same as for differentiation.  We will either be given a function $f(x)$ and asked to compute \n",
        "\n",
        "$\\displaystyle\\int_{a}^{b}f(x)\\,\\textrm{d}x, \\hspace{1in}$ (1)\n",
        "\n",
        "or we will be given a set of points $(x_0, y_0)$, $(x_1, y_1)$, $\\dotsc$, $(x_N, y_N)$, where $y_k = f(x_k)$ for some (usually unknown) function $f(x)$ and then asked to compute\n",
        "\n",
        "$\\displaystyle\\int_{a}^{b}f(x)\\,\\textrm{d}x$.  \n",
        "\n",
        "By convention, we will always assume that $a = x_0 < x_1 < \\cdots < x_N = b$ and that the points are all evenly spaced, so $x_k - x_{k-1} = \\Delta x$ is the same for all $k$.  That is, we will assume that $x_k = a + k\\Delta x$ for all $0\\leq k \\leq N$.  The assumption that the points are in order is really no restriction at all, since we can always re-organize any data we are given.  The assumption that these points are evenly spaced is more restrictive.  In practice, it is very common to have evenly spaced data (perhaps because you are making measurements at regular times or at locations on a regular grid), but it is not strictly necessary.  It turns out that none of the methods we will discuss actually require this even spacing, but the formulas become much messier when $\\Delta x$ is not constant.  It is also worth noting that there are $N + 1$ points here, not just $N$, because we start counting at $x_0$.  \n",
        "\n",
        "As in the previous two lectures, it is easy to switch back and forth between these two settings.  If we are given a function $f(x)$, then we can simply plug in all of our $x$ values and then forget about the function.  If we are given a set of $(x_k, y_k)$ points, then we can (at least on paper) pretend that $y_k = f(x_k)$ and just never use a formula for $f(x)$.  When working on paper, it is generally much more convenient to think in terms of a function $f$, but in real world applications we often only have a set of data points, so it is important to be comfortable with both sets of notation.  \n",
        "\n",
        "Remember that the integral in (1) can be thought of as the area under the curve $f(x)$ between $x = a$ and $x = b$.  All of our methods will be based upon the following idea: We can chop this area up into many smaller regions, then calculate the area of each smaller region and add them all up.  As long as the smaller regions approximately cover the whole area, then we will get a good approximation to the total integral.  \n",
        "\n",
        "It turns out that integration methods are generally much more difficult to analyze than difference schemes, so we will only fully analyze the simplest methods.  You have almost certainly seen these simple methods in a basic calculus class.  "
      ]
    },
    {
      "cell_type": "markdown",
      "metadata": {
        "id": "YcS6zd_U9PcH"
      },
      "source": [
        "## Left Hand Rule\n",
        "The basic idea in our first approach is to chop the area under the curve $f(x)$ into $N$ different rectangles.  The base of the first rectangle will be the interval $[x_0, x_1]$, then the base of the second rectangle will be $[x_1, x_2]$, and so on, all the way to the $N$th rectangle, whose base will be $[x_{N-1}, x_N]$.  In general, the base of the $k$th rectangle will be the interval $[x_{k-1}, x_k]$.  Because we assumed that the $x$ values were all evenly spaced, the width of each of these intervals is just $\\Delta x$.  We will determine the height by evaluating the function $f(x)$ at some point in the base.  The only real choice involved here is which point we use to determine the height.  \n",
        "\n",
        "The first approximation method we will discuss is called the *left hand rule* or *left rectangle rule*.  In this method, we choose the height of the $k$th rectangle to be $f(x_{k-1})$.  (The name comes from the fact that $x_{k-1}$ is the leftmost point in the base of the rectangle.)\n",
        "\n",
        "We can visualize this with the function `plot_lhr`, which is included at the top of the notebook.  For example, here are the rectangles for the function $f(x) = \\sin(x) + 3$ with $a = 0$, $b = 10$ and $\\Delta x = 2$.  "
      ]
    },
    {
      "cell_type": "code",
      "metadata": {
        "colab": {
          "base_uri": "https://localhost:8080/",
          "height": 265
        },
        "id": "B-GOUIeT9PcJ",
        "outputId": "22dd5667-af43-4a21-e8b7-ae6556be0b65"
      },
      "source": [
        "f = lambda x: np.sin(x) + 3\n",
        "a = 0\n",
        "b = 10\n",
        "dx = 2\n",
        "plot_lhr(f, a, b, dx)"
      ],
      "execution_count": null,
      "outputs": [
        {
          "output_type": "display_data",
          "data": {
            "image/png": "[encoded data removed]",
            "text/plain": [
              "<Figure size 432x288 with 1 Axes>"
            ]
          },
          "metadata": {
            "tags": [],
            "needs_background": "light"
          }
        }
      ]
    },
    {
      "cell_type": "markdown",
      "metadata": {
        "id": "4sNX6P7X9PcK"
      },
      "source": [
        "If we plot the same function with a smaller $\\Delta x$, we get"
      ]
    },
    {
      "cell_type": "code",
      "metadata": {
        "colab": {
          "base_uri": "https://localhost:8080/",
          "height": 265
        },
        "id": "w9KcQRMA9PcK",
        "outputId": "d0f711bc-d945-407c-a981-11e8079f0141"
      },
      "source": [
        "dx = 1\n",
        "plot_lhr(f, a, b, dx)"
      ],
      "execution_count": null,
      "outputs": [
        {
          "output_type": "display_data",
          "data": {
            "image/png": "[encoded data removed]",
            "text/plain": [
              "<Figure size 432x288 with 1 Axes>"
            ]
          },
          "metadata": {
            "tags": [],
            "needs_background": "light"
          }
        }
      ]
    },
    {
      "cell_type": "markdown",
      "metadata": {
        "id": "0BIos5aZ9PcL"
      },
      "source": [
        "If we shrink $\\Delta x$ even further, we get"
      ]
    },
    {
      "cell_type": "code",
      "metadata": {
        "colab": {
          "base_uri": "https://localhost:8080/",
          "height": 265
        },
        "id": "0rHGhifz9PcL",
        "outputId": "cb9e500e-3a37-4816-9516-26f1b61cedc2"
      },
      "source": [
        "dx = 0.1\n",
        "plot_lhr(f, a, b, dx)"
      ],
      "execution_count": null,
      "outputs": [
        {
          "output_type": "display_data",
          "data": {
            "image/png": "[encoded data removed]",
            "text/plain": [
              "<Figure size 432x288 with 1 Axes>"
            ]
          },
          "metadata": {
            "tags": [],
            "needs_background": "light"
          }
        }
      ]
    },
    {
      "cell_type": "markdown",
      "metadata": {
        "id": "Hc1_vRbU9PcM"
      },
      "source": [
        "The area of the $k$th rectangle is just the width times the height, or $\\Delta x f(x_{k-1})$.  To find the area under the whole curve, we just add up the area of all $N$ rectangles, so we get \n",
        "\n",
        "$\\int_{a}^{b}f(x)\\,\\textrm{d}x \\approx \\Delta x f(x_0) + \\Delta x f(x_1) + \\cdots + \\Delta x f(x_{N-1}) = \\displaystyle\\sum_{k=0}^{N-1}\\Delta x f(x_k) = \\Delta x\\displaystyle\\sum_{k=0}^{N-1}f(x_k).$\n",
        "\n",
        "How good an approximation is this?  More importantly, how does the quality of this approximation change as we reduce $\\Delta x$?  To answer that question, we will first look at a simpler problem and only try to find the integral over one of the rectangles (i.e., the integral from $x_{k-1}$ to $x_k$).  The left hand rule approximation to this integral is \n",
        "\n",
        "$\\displaystyle\\int_{x_{k-1}}^{x_k}f(x)\\,\\textrm{d}x \\approx \\Delta x f(x_{k-1})$.\n",
        "\n",
        "We can also approximate this integral by using a Taylor expansion of $f$.  In particular, we will expand $f(x)$ about the point $x_{k-1}$.  We get \n",
        "\n",
        "$\\displaystyle\\int_{x_{k-1}}^{x_k}f(x)\\,\\textrm{d}x = \\displaystyle\\int_{x_{k-1}}^{x_k}f(x_{k-1}) + (x - x_{k-1})f'(x_{k-1}) + \\frac{(x - x_{k-1})^2}{2}f''(x_{k-1}) + \\mathcal{O}((x - x_{k-1})^3)\\,\\textrm{d}x$.\n",
        "\n",
        "This integral looks quite complicated, but we are only integrating with respect to $x$, not $x_{k-1}$, so it is really just a polynomial.  We therefore get \n",
        "\n",
        "$\\displaystyle\\int_{x_{k-1}}^{x_k}f(x)\\,\\textrm{d}x = \\left[xf(x_{k-1}) + \\frac{(x - x_{k-1})^2}{2}f'(x_{k-1}) + \\frac{(x - x_{k-1})^3}{6}f''(x_{k-1}) + \\mathcal{O}((x - x_{k-1})^4)\\right]_{x = x_{k-1}}^{x_k}$.  \n",
        "\n",
        "If we plug in the endpoints $x = x_{k-1}$ and $x = x_k$ into this antiderivative, then many of the terms become zero and we are left with \n",
        "\n",
        "$\\displaystyle\\int_{x_{k-1}}^{x_k}f(x)\\,\\textrm{d}x = (x_k - x_{k-1})f(x_{k-1}) + \\frac{(x_k - x_{k-1})^2}{2}f'(x_{k-1}) + \\frac{(x_{k} - x_{k-1})^3}{6}f''(x_{k-1}) + \\mathcal{O}((x_k - x_{k-1})^4)$\n",
        "\n",
        "$= \\Delta xf(x_{k-1}) + \\frac{(\\Delta x)^2}{2}f'(x_{k-1}) + \\frac{(\\Delta x)^3}{6}f''(x_{k-1}) + \\mathcal{O}(\\Delta x^4)$.  \n",
        "\n",
        "Since $\\Delta x$ is supposed to be very small, higher powers of $\\Delta x$ will be even smaller, so we can safely ignore the $\\mathcal{O}(\\Delta x^3)$ terms.  This means that we have \n",
        "\n",
        "$\\displaystyle\\int_{x_{k-1}}^{x_k}f(x)\\,\\textrm{d}x \\approx \\Delta x f(x_{k-1}) + \\frac{(\\Delta x)^2}{2}f'(x_{k-1})$.\n",
        "\n",
        "Notice that the first term matches our approximation from the left hand rule.  This means that the left hand rule gives us a good approximation of the integral over this small interval and that the error from the left hand rule is $\\frac{(\\Delta x)^2}{2}f'(x_{k-1})$.  In particular, this error has a $\\Delta x^2$ in it, so we say that it is second order.  We call this quantity the *local error* for the left hand rule, and we say that the left hand rule has second order local error.  \n",
        "\n",
        "However, it is important to remember that this isn't really the problem we wanted to solve.  We just found a second order approximation to the integral of $f(x)$ from $x_{k-1}$ to $x_k$, but we wanted to approximate the integral from $a$ to $b$.  The total integral involves $N$ of these small intervals, so the total error will be roughly $N\\frac{(\\Delta x)^2}{2}f'(x_{k-1})$.  You might be tempted to think that $N$ is simply a constant, so we can ignore it when we use big-oh notation and just say that the total error is $\\mathcal{O}(\\Delta x^2)$, but this would be incorrect.  The problem is that $N$ actually depends on $\\Delta x$.  If we make $\\Delta x$ smaller, then we need more rectangles to cover the whole area.  In particular, we have $N = (b - a)/\\Delta x$.  This means that the error for the entire integral is $\\frac{(b - a)\\Delta x}{2}f'(x_{k-1})$, which only has a $\\Delta x^1$.  We call this quantity the *global error* of the left hand rule and we say that the left hand rule has first order global error.  "
      ]
    },
    {
      "cell_type": "markdown",
      "metadata": {
        "id": "h5zEcwRk9PcN"
      },
      "source": [
        "It is very easy to implement the left hand rule in python.  As an example, let's try to find the integral of $f(x) = \\sin(x) + 3$ between $a = 0$ and $b = 10$.  The antiderivative of this function is $F(x) = -\\cos(x) + 3x$, and so the actual solution is \n",
        "\n",
        "$\\displaystyle\\int_{a}^{b}\\sin(x) + 3\\,\\textrm{d}x = \\left(-\\cos(b) + 3b\\right) - \\left(-\\cos(a) + 3a\\right)$.  "
      ]
    },
    {
      "cell_type": "code",
      "metadata": {
        "colab": {
          "base_uri": "https://localhost:8080/"
        },
        "id": "7e5M9kre9PcN",
        "outputId": "c1cb8b40-6ac6-42de-af9e-aab9efee84a7"
      },
      "source": [
        "print((-np.cos(b) + 3 * b) - (-np.cos(a) + 3 * a))"
      ],
      "execution_count": null,
      "outputs": [
        {
          "output_type": "stream",
          "text": [
            "31.839071529076453\n"
          ],
          "name": "stdout"
        }
      ]
    },
    {
      "cell_type": "markdown",
      "metadata": {
        "id": "g09Cq21h9PcR"
      },
      "source": [
        "To set up our problem, we need to choose a list of $x$ values and calculate the corresponding $y$ values.  For example, if we choose $\\Delta x = 1$ then we have "
      ]
    },
    {
      "cell_type": "code",
      "metadata": {
        "id": "2hO8tV2Y9PcT"
      },
      "source": [
        "dx = 1\n",
        "x = np.arange(a, b + dx, dx)\n",
        "y = np.sin(x) + 3"
      ],
      "execution_count": null,
      "outputs": []
    },
    {
      "cell_type": "markdown",
      "metadata": {
        "id": "W0N2__uY9PcT"
      },
      "source": [
        "To calculate the left hand rule, we have to add up $(\\Delta x) y_k$ for every $y$ value except the last one.  One approach (which we have used several times in this class already) is to add these terms one at a time in a loop.  For example, "
      ]
    },
    {
      "cell_type": "code",
      "metadata": {
        "colab": {
          "base_uri": "https://localhost:8080/"
        },
        "id": "mljgRtlx9PcT",
        "outputId": "287c1433-cc53-4676-ea16-8550de465d72"
      },
      "source": [
        "LHR = 0\n",
        "for k in range(x.size - 1):\n",
        "    LHR = LHR + dx * y[k]\n",
        "print(LHR)"
      ],
      "execution_count": null,
      "outputs": [
        {
          "output_type": "stream",
          "text": [
            "31.95520948210738\n"
          ],
          "name": "stdout"
        }
      ]
    },
    {
      "cell_type": "markdown",
      "metadata": {
        "id": "HUtT_pyG9PcT"
      },
      "source": [
        "Another option is to collect all of the necessary $y$ values and then use the numpy function `sum` to add them all up.  Since we want to add the first through the second to last entries of $y$, we can use "
      ]
    },
    {
      "cell_type": "code",
      "metadata": {
        "colab": {
          "base_uri": "https://localhost:8080/"
        },
        "id": "rk9cRjVb9PcU",
        "outputId": "8ac99f97-1fad-4788-e7ee-78e555ae3c20"
      },
      "source": [
        "LHR = dx * np.sum(y[:-1])\n",
        "print(LHR)"
      ],
      "execution_count": null,
      "outputs": [
        {
          "output_type": "stream",
          "text": [
            "31.955209482107378\n"
          ],
          "name": "stdout"
        }
      ]
    },
    {
      "cell_type": "markdown",
      "metadata": {
        "id": "H52Fkiol9PcU"
      },
      "source": [
        "## Right Hand Rule\n",
        "There was no particular reason to choose the left endpoint of each interval in the previous approximation.  We could just as easily have chosen the right endpoint (or any point in between, for that matter, but we will stick to the endpoints for now).  \n",
        "\n",
        "Here are some illustrations of the right hand rule for different choices of $\\Delta x$: "
      ]
    },
    {
      "cell_type": "code",
      "metadata": {
        "colab": {
          "base_uri": "https://localhost:8080/",
          "height": 265
        },
        "id": "N0WA5OMS9PcV",
        "outputId": "ac63afd8-0b7b-4e1f-ee4b-3468f28156de"
      },
      "source": [
        "dx = 2\n",
        "plot_rhr(f, a, b, dx)"
      ],
      "execution_count": null,
      "outputs": [
        {
          "output_type": "display_data",
          "data": {
            "image/png": "[encoded data removed]",
            "text/plain": [
              "<Figure size 432x288 with 1 Axes>"
            ]
          },
          "metadata": {
            "tags": [],
            "needs_background": "light"
          }
        }
      ]
    },
    {
      "cell_type": "code",
      "metadata": {
        "colab": {
          "base_uri": "https://localhost:8080/",
          "height": 265
        },
        "id": "LEmMIIZ89PcV",
        "outputId": "4a1b347e-0967-4d79-96e9-16c372635de2"
      },
      "source": [
        "dx = 1\n",
        "plot_rhr(f, a, b, dx)"
      ],
      "execution_count": null,
      "outputs": [
        {
          "output_type": "display_data",
          "data": {
            "image/png": "[encoded data removed]",
            "text/plain": [
              "<Figure size 432x288 with 1 Axes>"
            ]
          },
          "metadata": {
            "tags": [],
            "needs_background": "light"
          }
        }
      ]
    },
    {
      "cell_type": "code",
      "metadata": {
        "colab": {
          "base_uri": "https://localhost:8080/",
          "height": 265
        },
        "id": "FP_46aZn9PcV",
        "outputId": "5dbce313-5093-4899-e6fa-b518fe2aa4b0"
      },
      "source": [
        "dx = 0.1\n",
        "plot_rhr(f, a, b, dx)"
      ],
      "execution_count": null,
      "outputs": [
        {
          "output_type": "display_data",
          "data": {
            "image/png": "[encoded data removed]",
            "text/plain": [
              "<Figure size 432x288 with 1 Axes>"
            ]
          },
          "metadata": {
            "tags": [],
            "needs_background": "light"
          }
        }
      ]
    },
    {
      "cell_type": "markdown",
      "metadata": {
        "id": "vFBvPIt29PcW"
      },
      "source": [
        "The area of the $k$th rectangle is now $\\Delta x f(x_k)$, and so we have the approximation \n",
        "\n",
        "$\\displaystyle\\int_{a}^{b}f(x)\\,\\textrm{d}x \\approx \\Delta xf(x_1) + \\Delta xf(x_2) + \\cdots + \\Delta xf(x_N) = \\displaystyle\\sum_{k=1}^{N}f(x_k)\\Delta x = \\Delta x\\displaystyle\\sum_{k=1}^{N}f(x_k)$.\n",
        "\n",
        "We call this method the *right hand rule* or *right rectangle rule*.  Notice that the formula is almost exactly the same as for the left hand rule, but the sum starts at 1 instead of 0 and goes up to $N$ instead of $N - 1$.  That is, we use every $f(x_k)$ value except for $f(x_0)$, whereas in the left hand rule we used every value except for $f(x_N)$.  \n",
        "\n",
        "We can calculate the error in exactly the same way as we did for the left hand rule (except that we would need to Taylor expand about $x_k$ instead of $x_{k-1}$).  If we do so, we will find that the local error is approximately $-\\frac{(\\Delta x)^2}{2}f'(x_k)$, and so the right hand rule has second order local error.  Likewise, we would find that the global error is approximately $-\\frac{(b - a)\\Delta x}{2}f'(x_k)$, and so the right hand rule has first order global error.  \n",
        "\n",
        "Like the left hand rule, it is easy to implement this method in python.  Let's try the same integral as above: \n",
        "\n",
        "$\\displaystyle\\int_{0}^{10}\\sin(x) + 3\\,\\textrm{d} x = \\bigg[-\\cos(x) + 3x\\bigg]_{x=0}^{10}$.  "
      ]
    },
    {
      "cell_type": "code",
      "metadata": {
        "colab": {
          "base_uri": "https://localhost:8080/"
        },
        "id": "M3vBZmE89PcW",
        "outputId": "c9d8b05e-102a-43b3-8bdd-f1288da5d199"
      },
      "source": [
        "dx = 1\n",
        "a = 0\n",
        "b = 10\n",
        "print((-np.cos(b) + 3 * b) - (-np.cos(a) + 3 * a))"
      ],
      "execution_count": null,
      "outputs": [
        {
          "output_type": "stream",
          "text": [
            "31.839071529076453\n"
          ],
          "name": "stdout"
        }
      ]
    },
    {
      "cell_type": "markdown",
      "metadata": {
        "id": "5VRXgmDt9PcW"
      },
      "source": [
        "To calculate the right hand rule, we have to add up $(\\Delta x)y_k$ for every $y$ value except the first one.  As before, we can either do this with a loop or the built-in `sum` function.  "
      ]
    },
    {
      "cell_type": "code",
      "metadata": {
        "colab": {
          "base_uri": "https://localhost:8080/"
        },
        "id": "y4WxX8kq9PcW",
        "outputId": "c1885523-cf4a-41bd-eb0f-a6b1bbdbd9f5"
      },
      "source": [
        "RHR = 0\n",
        "for k in range(1, x.size):\n",
        "    RHR = RHR + dx * y[k]\n",
        "print(RHR)"
      ],
      "execution_count": null,
      "outputs": [
        {
          "output_type": "stream",
          "text": [
            "31.41118837121801\n"
          ],
          "name": "stdout"
        }
      ]
    },
    {
      "cell_type": "code",
      "metadata": {
        "colab": {
          "base_uri": "https://localhost:8080/"
        },
        "id": "t150cjXO9PcX",
        "outputId": "e8e40928-e62f-4267-f5bf-4b890c9f59e5"
      },
      "source": [
        "RHR = dx * np.sum(y[1:])\n",
        "print(RHR)"
      ],
      "execution_count": null,
      "outputs": [
        {
          "output_type": "stream",
          "text": [
            "31.41118837121801\n"
          ],
          "name": "stdout"
        }
      ]
    },
    {
      "cell_type": "markdown",
      "metadata": {
        "id": "svuIiIM_9PcX"
      },
      "source": [
        "## Trapezoidal Rule\n",
        "It is worth noting that the leading error terms for the left and right hand rules look very similar, but with opposite signs.  This suggests an improvement very similar to our approach with the central difference scheme.  We can calculate both the right and left hand approximations and then average the two.  We would then obtain the formula\n",
        "\n",
        "$\\displaystyle\\int_{a}^{b}f(x)\\,\\textrm{d}x \\approx \\frac{1}{2}\\left[\\displaystyle\\sum_{k=0}^{N-1}\\Delta xf(x_k) + \\displaystyle\\sum_{k=1}^{N}f(x_k)\\Delta x\\right]$.\n",
        "\n",
        "We can actually simplify this even more by noting that most of the terms appear twice, once in each sum.  The only two exceptions are the $k = 0$ and $k = N$ terms, which only appear once.  We can therefore rewrite this approximation as \n",
        "\n",
        "$\\displaystyle\\int_{a}^{b}f(x)\\,\\textrm{d}x \\approx \\frac{\\Delta x}{2}\\left[f(x_0) + 2\\displaystyle\\sum_{k=1}^{N-1}f(x_k) + f(x_N)\\right]$.\n",
        "\n",
        "This approximation is called the *trapezoidal rule*.  The name comes from the fact that we can also derive this method by dividing the total area up into many small trapezoids instead of rectangles.  For example: "
      ]
    },
    {
      "cell_type": "code",
      "metadata": {
        "colab": {
          "base_uri": "https://localhost:8080/",
          "height": 265
        },
        "id": "2JWkHIeB9PcX",
        "outputId": "4f20d387-3800-44d5-9b12-5aa1fb0dc764"
      },
      "source": [
        "dx = 2\n",
        "plot_trap(f, a, b, dx)"
      ],
      "execution_count": null,
      "outputs": [
        {
          "output_type": "display_data",
          "data": {
            "image/png": "[encoded data removed]",
            "text/plain": [
              "<Figure size 432x288 with 1 Axes>"
            ]
          },
          "metadata": {
            "tags": [],
            "needs_background": "light"
          }
        }
      ]
    },
    {
      "cell_type": "code",
      "metadata": {
        "colab": {
          "base_uri": "https://localhost:8080/",
          "height": 265
        },
        "id": "-fYaPRf-9PcY",
        "outputId": "563a691c-01af-43e6-f2dc-670e3e8423bc"
      },
      "source": [
        "dx = 1\n",
        "plot_trap(f, a, b, dx)"
      ],
      "execution_count": null,
      "outputs": [
        {
          "output_type": "display_data",
          "data": {
            "image/png": "[encoded data removed]",
            "text/plain": [
              "<Figure size 432x288 with 1 Axes>"
            ]
          },
          "metadata": {
            "tags": [],
            "needs_background": "light"
          }
        }
      ]
    },
    {
      "cell_type": "code",
      "metadata": {
        "colab": {
          "base_uri": "https://localhost:8080/",
          "height": 265
        },
        "id": "AjW4lTYw9PcY",
        "outputId": "ae0c3045-f6e1-4569-d03a-4c3095afacb6"
      },
      "source": [
        "dx = 0.1\n",
        "plot_trap(f, a, b, dx)"
      ],
      "execution_count": null,
      "outputs": [
        {
          "output_type": "display_data",
          "data": {
            "image/png": "[encoded data removed]",
            "text/plain": [
              "<Figure size 432x288 with 1 Axes>"
            ]
          },
          "metadata": {
            "tags": [],
            "needs_background": "light"
          }
        }
      ]
    },
    {
      "cell_type": "markdown",
      "metadata": {
        "id": "4CpuYRMo9PcY"
      },
      "source": [
        "The analysis for this method is more complicated than before, but it turns out that the trapezoidal rule has third order local error and second order global error.  "
      ]
    },
    {
      "cell_type": "markdown",
      "metadata": {
        "id": "I13Bu6z_9Pcc"
      },
      "source": [
        "As an example, let's use the trapezoidal method to approximate the same integral as before: "
      ]
    },
    {
      "cell_type": "code",
      "metadata": {
        "colab": {
          "base_uri": "https://localhost:8080/"
        },
        "id": "eKTXC8FZ9Pcd",
        "outputId": "0796bf08-0758-4174-f412-5e59da02ee04"
      },
      "source": [
        "dx = 1\n",
        "a = 0\n",
        "b = 10\n",
        "print((-np.cos(b) + 3 * b) - (-np.cos(a) + 3 * a))"
      ],
      "execution_count": null,
      "outputs": [
        {
          "output_type": "stream",
          "text": [
            "31.839071529076453\n"
          ],
          "name": "stdout"
        }
      ]
    },
    {
      "cell_type": "markdown",
      "metadata": {
        "id": "YbmSbYQX9Pcd"
      },
      "source": [
        "We can either find the left and right hand rules first and then average them"
      ]
    },
    {
      "cell_type": "code",
      "metadata": {
        "colab": {
          "base_uri": "https://localhost:8080/"
        },
        "id": "MvrFtFRs9Pcd",
        "outputId": "e638b021-66db-4823-cdf8-3bab743f5da4"
      },
      "source": [
        "LHR = dx * np.sum(y[:-1])\n",
        "RHR = dx * np.sum(y[1:])\n",
        "trap = (LHR + RHR) / 2\n",
        "print(trap)"
      ],
      "execution_count": null,
      "outputs": [
        {
          "output_type": "stream",
          "text": [
            "31.683198926662694\n"
          ],
          "name": "stdout"
        }
      ]
    },
    {
      "cell_type": "markdown",
      "metadata": {
        "id": "EcFXb91m9Pcd"
      },
      "source": [
        "or we can use the formula directly:"
      ]
    },
    {
      "cell_type": "code",
      "metadata": {
        "colab": {
          "base_uri": "https://localhost:8080/"
        },
        "id": "VgyzAXFD9Pcd",
        "outputId": "621b43b0-6246-4476-aac2-2e3e96c18c63"
      },
      "source": [
        "trap = (dx / 2) * (y[0] + 2 * np.sum(y[1:-1]) + y[-1])\n",
        "print(trap)"
      ],
      "execution_count": null,
      "outputs": [
        {
          "output_type": "stream",
          "text": [
            "31.683198926662694\n"
          ],
          "name": "stdout"
        }
      ]
    },
    {
      "cell_type": "markdown",
      "metadata": {
        "id": "_EWcKEaU9Pce"
      },
      "source": [
        "## Builtin Functions\n",
        "Python has several useful builtin functions for approximating integrals.  First, there is the `trapz` function from the numpy package, which implements the trapezoidal rule.  The easiest way to use this command is to give it a vector of $y$ values and a vector of $x$ values corresponding to the $(x_k, y_k)$ points from our data set.  For example, if we were solving the same problem as above, then we could just write "
      ]
    },
    {
      "cell_type": "code",
      "metadata": {
        "colab": {
          "base_uri": "https://localhost:8080/"
        },
        "id": "xMc-K4Tm9Pce",
        "outputId": "7a8fdd51-aabd-45df-9544-0a17da69b117"
      },
      "source": [
        "trap = np.trapz(y, x)\n",
        "print(trap)"
      ],
      "execution_count": null,
      "outputs": [
        {
          "output_type": "stream",
          "text": [
            "31.683198926662694\n"
          ],
          "name": "stdout"
        }
      ]
    },
    {
      "cell_type": "markdown",
      "metadata": {
        "id": "oJvorxb59Pcf"
      },
      "source": [
        "It is important to keep in mind that `y` and `x` are arrays, not functions.  Python figures out the spacing $\\Delta x$ by looking at the array `x`.  "
      ]
    },
    {
      "cell_type": "markdown",
      "metadata": {
        "id": "sIxeSzjB9Pcf"
      },
      "source": [
        "Another important built-in function called `quad` can be found in the `integrate` sub-package of `scipy`.  The general syntax looks like this: \n",
        "\n",
        "`Int, err = scipy.integrate.quad(f, a, b)`\n",
        "\n",
        "where `f` is the function (not an array) you want to integrate and `a` and `b` are the bounds of integration.  The first return value is the integral and the second is an estimate of the error between this approximation and the true value.  \n",
        "\n",
        "The `quad` function uses substantially more sophisticated algorithms than we have covered here.  It is worth noting that this function does not use the same method as the MATLAB function `quad`.  Instead, `scipy.integrate.quad` is the equivalent of the MATLAB function `integral`.  "
      ]
    },
    {
      "cell_type": "code",
      "metadata": {
        "colab": {
          "base_uri": "https://localhost:8080/"
        },
        "id": "MgkARxH89Pcf",
        "outputId": "b5e64c2b-879a-44f2-98cd-33c5cf8db41c"
      },
      "source": [
        "import scipy.integrate\n",
        "\n",
        "Int, err = scipy.integrate.quad(f, a, b)\n",
        "print(Int)"
      ],
      "execution_count": null,
      "outputs": [
        {
          "output_type": "stream",
          "text": [
            "31.839071529076453\n"
          ],
          "name": "stdout"
        }
      ]
    }
  ]
}